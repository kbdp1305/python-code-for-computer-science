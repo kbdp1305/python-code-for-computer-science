{
  "nbformat": 4,
  "nbformat_minor": 0,
  "metadata": {
    "colab": {
      "provenance": []
    },
    "kernelspec": {
      "name": "python3",
      "display_name": "Python 3"
    },
    "language_info": {
      "name": "python"
    }
  },
  "cells": [
    {
      "cell_type": "code",
      "execution_count": 1,
      "metadata": {
        "id": "bPn47rt6kSIY"
      },
      "outputs": [],
      "source": [
        "import numpy as np"
      ]
    },
    {
      "cell_type": "markdown",
      "source": [
        "Nama : Krisna Bayu Dharma Putra (21/482071/PA/21017)\n",
        "         || Vincent Yeozekiel (21/481885/PA/20999)"
      ],
      "metadata": {
        "id": "vBle3cKFtUHe"
      }
    },
    {
      "cell_type": "code",
      "source": [
        "weights=[[150,15,2,2,3],[500,200,2,3,2],[200,10,3,1,3],[350,100,3,1,2]]\n",
        "weights=np.array(weights)"
      ],
      "metadata": {
        "id": "urFc_S93kT-o"
      },
      "execution_count": 2,
      "outputs": []
    },
    {
      "cell_type": "code",
      "source": [
        "weights"
      ],
      "metadata": {
        "colab": {
          "base_uri": "https://localhost:8080/"
        },
        "id": "4J-EBsawkjiv",
        "outputId": "1cd1b1e6-8d35-472c-8003-89a94b359791"
      },
      "execution_count": 3,
      "outputs": [
        {
          "output_type": "execute_result",
          "data": {
            "text/plain": [
              "array([[150,  15,   2,   2,   3],\n",
              "       [500, 200,   2,   3,   2],\n",
              "       [200,  10,   3,   1,   3],\n",
              "       [350, 100,   3,   1,   2]])"
            ]
          },
          "metadata": {},
          "execution_count": 3
        }
      ]
    },
    {
      "cell_type": "code",
      "source": [
        "# cost = 1 , 4\n",
        "#"
      ],
      "metadata": {
        "id": "oDRkU7bwknbc"
      },
      "execution_count": 4,
      "outputs": []
    },
    {
      "cell_type": "code",
      "source": [
        "min_a1=150\n",
        "min_a4=1\n",
        "max_a2=200\n",
        "max_a3=3\n",
        "max_a5=3"
      ],
      "metadata": {
        "id": "kS8KjOEWlEaO"
      },
      "execution_count": 19,
      "outputs": []
    },
    {
      "cell_type": "code",
      "source": [
        "# Bobot Untuk normalisasi matriks\n",
        "normalized_array=[150,200,3,1,3]"
      ],
      "metadata": {
        "id": "wRcCdx3Fl5BL"
      },
      "execution_count": 20,
      "outputs": []
    },
    {
      "cell_type": "code",
      "source": [
        "# Normalisasikan Matrixnya sesuai aturan\n",
        "normalized_weights=weights.copy().astype(float)\n",
        "\n",
        "for i in range(normalized_weights.shape[0]) :\n",
        "  for j in range(normalized_weights.shape[1]) :\n",
        "    if j in [0,3] :\n",
        "      normalized_weights[i][j] = normalized_array[j]/weights[i][j] # Normalisasi matriks cost\n",
        "    else :\n",
        "      normalized_weights[i][j] = weights[i][j]/normalized_array[j] # Normalisasi matriks benefit"
      ],
      "metadata": {
        "id": "y5CA5T79lnOL"
      },
      "execution_count": 21,
      "outputs": []
    },
    {
      "cell_type": "markdown",
      "source": [],
      "metadata": {
        "id": "whUtqjrNoiev"
      }
    },
    {
      "cell_type": "code",
      "source": [
        "normalized_weights"
      ],
      "metadata": {
        "colab": {
          "base_uri": "https://localhost:8080/"
        },
        "id": "wnr2vRE7l_E5",
        "outputId": "ec130ab1-7fc6-48f5-c7b8-731cd15c6ac2"
      },
      "execution_count": 22,
      "outputs": [
        {
          "output_type": "execute_result",
          "data": {
            "text/plain": [
              "array([[1.        , 0.075     , 0.66666667, 0.5       , 1.        ],\n",
              "       [0.3       , 1.        , 0.66666667, 0.33333333, 0.66666667],\n",
              "       [0.75      , 0.05      , 1.        , 1.        , 1.        ],\n",
              "       [0.42857143, 0.5       , 1.        , 1.        , 0.66666667]])"
            ]
          },
          "metadata": {},
          "execution_count": 22
        }
      ]
    },
    {
      "cell_type": "code",
      "source": [
        "# Hitung nilai preferensi\n",
        "\n",
        "final_score=[]\n",
        "bobot=[0.25,0.15,0.3,0.25,0.05]\n",
        "\n",
        "for i in range(normalized_weights.shape[0]) :\n",
        "  temp=0\n",
        "  for j in range(normalized_weights.shape[1]) :\n",
        "    temp+=normalized_weights[i][j]*bobot[j]\n",
        "  final_score.append(temp)\n",
        "\n"
      ],
      "metadata": {
        "id": "GLzP0iVKmCmA"
      },
      "execution_count": 23,
      "outputs": []
    },
    {
      "cell_type": "code",
      "source": [
        "final_score"
      ],
      "metadata": {
        "colab": {
          "base_uri": "https://localhost:8080/"
        },
        "id": "lYdMfOmqm5NR",
        "outputId": "9898d0b8-e500-41a8-d1d6-51df3ee0d4dd"
      },
      "execution_count": 24,
      "outputs": [
        {
          "output_type": "execute_result",
          "data": {
            "text/plain": [
              "[0.63625, 0.5416666666666666, 0.795, 0.7654761904761904]"
            ]
          },
          "metadata": {},
          "execution_count": 24
        }
      ]
    },
    {
      "cell_type": "code",
      "source": [
        "dic_s = {'A1': final_score[0], 'A2': final_score[1], 'A3': final_score[2], 'A4': final_score[3]}"
      ],
      "metadata": {
        "id": "BvWZwYc2o0_K"
      },
      "execution_count": 28,
      "outputs": []
    },
    {
      "cell_type": "code",
      "source": [
        "sorted_dic_s = dict(sorted(dic_s.items(), key=lambda item: item[1],reverse=True))"
      ],
      "metadata": {
        "id": "E5c5Vg_YpOlr"
      },
      "execution_count": 32,
      "outputs": []
    },
    {
      "cell_type": "code",
      "source": [
        "sorted_dic_s # Hasil Akhir"
      ],
      "metadata": {
        "colab": {
          "base_uri": "https://localhost:8080/"
        },
        "id": "yxU5_rjgpbzK",
        "outputId": "ba774431-8d3b-4e14-8c5e-91a3b6b8f0b4"
      },
      "execution_count": 65,
      "outputs": [
        {
          "output_type": "execute_result",
          "data": {
            "text/plain": [
              "{'A3': 0.795,\n",
              " 'A4': 0.7654761904761904,\n",
              " 'A1': 0.63625,\n",
              " 'A2': 0.5416666666666666}"
            ]
          },
          "metadata": {},
          "execution_count": 65
        }
      ]
    },
    {
      "cell_type": "markdown",
      "source": [
        "# WP"
      ],
      "metadata": {
        "id": "wF8h_-btopkK"
      }
    },
    {
      "cell_type": "code",
      "source": [
        "weights=[[150,15,2,2,3],[500,200,2,3,2],[200,10,3,1,3],[350,100,3,1,2]]\n",
        "weights=np.array(weights)"
      ],
      "metadata": {
        "id": "StQqVElvm6cu"
      },
      "execution_count": 25,
      "outputs": []
    },
    {
      "cell_type": "code",
      "source": [
        "bobot=[0.25,0.15,0.3,0.25,0.05]\n",
        "solusi = []\n",
        "for i in range(weights.shape[0]) :\n",
        "  temp=1\n",
        "  for j in range(weights.shape[1]) :\n",
        "    if j in (0,3) :\n",
        "      temp=temp*np.power(weights[i][j],-bobot[j]) # Cost dipangkatkan negatif\n",
        "    else :\n",
        "      temp=temp*pow(weights[i][j],bobot[j]) # benefit dipangkatkan positif\n",
        "  solusi.append(temp)\n",
        "\n",
        "\n"
      ],
      "metadata": {
        "id": "CltHcGa9oxfL"
      },
      "execution_count": 56,
      "outputs": []
    },
    {
      "cell_type": "code",
      "source": [
        "solusi"
      ],
      "metadata": {
        "colab": {
          "base_uri": "https://localhost:8080/"
        },
        "id": "rPFjcyrsq7ij",
        "outputId": "2a952e6b-c31e-444c-d626-10a69aa77aab"
      },
      "execution_count": 57,
      "outputs": [
        {
          "output_type": "execute_result",
          "data": {
            "text/plain": [
              "[0.4691356500228826,\n",
              " 0.45341113669008326,\n",
              " 0.5517405967103892,\n",
              " 0.6640042591828842]"
            ]
          },
          "metadata": {},
          "execution_count": 57
        }
      ]
    },
    {
      "cell_type": "code",
      "source": [
        "sum_=np.sum(solusi)\n",
        "final_score2=[]\n",
        "for i in range(len(solusi)) :\n",
        "  final_score2.append(solusi[i]/sum_) # Bagi dengan sum"
      ],
      "metadata": {
        "id": "lsquHSHLrBkC"
      },
      "execution_count": 60,
      "outputs": []
    },
    {
      "cell_type": "code",
      "source": [
        "final_score2"
      ],
      "metadata": {
        "colab": {
          "base_uri": "https://localhost:8080/"
        },
        "id": "S1EnG8qtswNx",
        "outputId": "850f1f08-4816-491c-d098-c1454ef5121f"
      },
      "execution_count": 61,
      "outputs": [
        {
          "output_type": "execute_result",
          "data": {
            "text/plain": [
              "[0.21939741084667028,\n",
              " 0.21204363691823008,\n",
              " 0.25802869249299626,\n",
              " 0.31053025974210324]"
            ]
          },
          "metadata": {},
          "execution_count": 61
        }
      ]
    },
    {
      "cell_type": "code",
      "source": [
        "dic_s = {'A1': final_score2[0], 'A2': final_score2[1], 'A3': final_score2[2], 'A4': final_score2[3]}"
      ],
      "metadata": {
        "id": "AM46Um7KsxXr"
      },
      "execution_count": 62,
      "outputs": []
    },
    {
      "cell_type": "code",
      "source": [
        "sorted_dic_s2 = dict(sorted(dic_s.items(), key=lambda item: item[1],reverse=True))"
      ],
      "metadata": {
        "id": "fUpPy0rAs-zq"
      },
      "execution_count": 63,
      "outputs": []
    },
    {
      "cell_type": "code",
      "source": [
        "sorted_dic_s2 # Hasil akhir"
      ],
      "metadata": {
        "colab": {
          "base_uri": "https://localhost:8080/"
        },
        "id": "XAl5V8_ltA1f",
        "outputId": "445053e7-22dd-46d6-d71f-3bbfa313e050"
      },
      "execution_count": 64,
      "outputs": [
        {
          "output_type": "execute_result",
          "data": {
            "text/plain": [
              "{'A4': 0.31053025974210324,\n",
              " 'A3': 0.25802869249299626,\n",
              " 'A1': 0.21939741084667028,\n",
              " 'A2': 0.21204363691823008}"
            ]
          },
          "metadata": {},
          "execution_count": 64
        }
      ]
    },
    {
      "cell_type": "code",
      "source": [],
      "metadata": {
        "id": "VgHphuI8tCTA"
      },
      "execution_count": null,
      "outputs": []
    },
    {
      "cell_type": "markdown",
      "source": [],
      "metadata": {
        "id": "Tt7CtFxDtSuH"
      }
    }
  ]
}